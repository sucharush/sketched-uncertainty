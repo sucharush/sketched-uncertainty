{
 "cells": [
  {
   "cell_type": "code",
   "execution_count": null,
   "metadata": {},
   "outputs": [],
   "source": [
    "%load_ext autoreload\n",
    "%autoreload 2\n",
    "import torch\n",
    "import torch.nn as nn\n",
    "import torchvision.transforms as transforms\n",
    "import torchvision.datasets as datasets\n",
    "from torchvision.datasets import MNIST\n",
    "import torchvision.transforms as T\n",
    "from torch.utils.data import Subset, DataLoader\n",
    "from uncertainty.ggn import GGNMatVecOperator\n",
    "from uncertainty.evaluation_slu import SLUEvaluator\n",
    "from sketch.sketch_srft import SRFTSketcher\n",
    "from solvers.sketched_lanczos import SketchedLanczos\n",
    "import numpy as np"
   ]
  },
  {
   "cell_type": "markdown",
   "metadata": {},
   "source": [
    "### workflow:\n",
    "1. load models and datasets (ID, OoD)\n",
    "2. define GGN-vector product\n",
    "3. generate Us\n",
    "4. compute SLU and AUROC"
   ]
  },
  {
   "cell_type": "code",
   "execution_count": 2,
   "metadata": {},
   "outputs": [
    {
     "name": "stdout",
     "output_type": "stream",
     "text": [
      "device: mps\n"
     ]
    }
   ],
   "source": [
    "device = torch.device(\"mps\" if torch.backends.mps.is_available() else \"cpu\")\n",
    "print(f\"device: {device}\")"
   ]
  },
  {
   "cell_type": "code",
   "execution_count": null,
   "metadata": {},
   "outputs": [],
   "source": [
    "# 1. Load MNIST\n",
    "transform = T.Compose([T.ToTensor(), T.Lambda(lambda x: x.view(-1))])\n",
    "mnist = MNIST(root=\"./data\", train=True, download=True, transform=transform)\n",
    "loader = DataLoader(mnist, batch_size=2000, shuffle=True)\n",
    "X_batch, Y_batch = next(iter(loader))\n",
    "X_batch = X_batch.float().to(device)\n",
    "Y_batch = Y_batch.long().to(device)\n",
    "\n",
    "# 2. Small model\n",
    "class SmallNet(nn.Module):\n",
    "    def __init__(self):\n",
    "        super().__init__()\n",
    "        self.net = nn.Sequential(\n",
    "            nn.Linear(784, 32),\n",
    "            nn.ReLU(),\n",
    "            nn.Linear(32, 16),\n",
    "            nn.ReLU(),\n",
    "            nn.Linear(16, 10)\n",
    "        )\n",
    "    def forward(self, x):\n",
    "        return self.net(x)\n",
    "# device = torch.device(\"cpu\")"
   ]
  },
  {
   "cell_type": "code",
   "execution_count": 123,
   "metadata": {},
   "outputs": [
    {
     "data": {
      "text/plain": [
       "SmallNet(\n",
       "  (net): Sequential(\n",
       "    (0): Linear(in_features=784, out_features=32, bias=True)\n",
       "    (1): ReLU()\n",
       "    (2): Linear(in_features=32, out_features=16, bias=True)\n",
       "    (3): ReLU()\n",
       "    (4): Linear(in_features=16, out_features=10, bias=True)\n",
       "  )\n",
       ")"
      ]
     },
     "execution_count": 123,
     "metadata": {},
     "output_type": "execute_result"
    }
   ],
   "source": [
    "model = SmallNet()\n",
    "model.load_state_dict(torch.load(\"models/mlp.pt\"))\n",
    "model.eval()"
   ]
  },
  {
   "cell_type": "code",
   "execution_count": 124,
   "metadata": {},
   "outputs": [
    {
     "name": "stderr",
     "output_type": "stream",
     "text": [
      "/Users/csy/Desktop/sp2/demo/uncertainty/ggn.py:17: FutureWarning: We've integrated functorch into PyTorch. As the final step of the integration, `functorch.make_functional` is deprecated as of PyTorch 2.0 and will be deleted in a future version of PyTorch >= 2.3. Please use `torch.func.functional_call` instead; see the PyTorch 2.0 release notes and/or the `torch.func` migration guide for more details https://pytorch.org/docs/main/func.migrating.html\n",
      "  self.fmodel, self.params = make_functional(model)\n"
     ]
    }
   ],
   "source": [
    "ggn_op = GGNMatVecOperator(model, X_batch, Y_batch, device=device)"
   ]
  },
  {
   "cell_type": "code",
   "execution_count": 125,
   "metadata": {},
   "outputs": [],
   "source": [
    "num_params = sum(p.numel() for p in model.parameters())\n",
    "steps = 100\n",
    "s = 2 * steps\n",
    "srft = SRFTSketcher(p = num_params, s=s)\n",
    "gaussian = torch.randn(s, num_params).to(device)\n",
    "# class IdentitySketch:\n",
    "#     def __init__(self, p):\n",
    "#         self.p = self.s = p\n",
    "#     def apply_sketch(self, x):\n",
    "#         return x\n",
    "# srft = IdentitySketch(p=num_params)\n",
    "solver = SketchedLanczos(G_matvec=ggn_op.numpy_interface, p=num_params, sketch=srft)\n",
    "solver.run(num_steps=steps)\n",
    "Us = solver.get_basis()"
   ]
  },
  {
   "cell_type": "code",
   "execution_count": 126,
   "metadata": {},
   "outputs": [],
   "source": [
    "# 1. Prepare ID data\n",
    "id_X = X_batch[:500]  # Use your current training batch as ID\n",
    "\n",
    "# 2. Prepare OoD data (KMNIST)\n",
    "transform = transforms.Compose([\n",
    "    transforms.ToTensor()\n",
    "])\n",
    "\n",
    "ood_dataset = datasets.KMNIST(root='./data', train=False, download=True, transform=transform)\n",
    "ood_loader = torch.utils.data.DataLoader(ood_dataset, batch_size=500, shuffle=True)\n",
    "\n",
    "ood_X_list = []\n",
    "for ood_batch, _ in ood_loader:\n",
    "    ood_X_list.append(ood_batch)\n",
    "    if len(ood_X_list) * 64 > len(id_X):\n",
    "        break\n",
    "ood_X = torch.cat(ood_X_list, dim=0)[:len(id_X)]  # match size with ID\n",
    "ood_X = ood_X.view(len(ood_X), -1) "
   ]
  },
  {
   "cell_type": "code",
   "execution_count": 127,
   "metadata": {},
   "outputs": [
    {
     "name": "stderr",
     "output_type": "stream",
     "text": [
      "/Users/csy/Desktop/sp2/demo/uncertainty/evaluation_slu.py:16: FutureWarning: We've integrated functorch into PyTorch. As the final step of the integration, `functorch.make_functional` is deprecated as of PyTorch 2.0 and will be deleted in a future version of PyTorch >= 2.3. Please use `torch.func.functional_call` instead; see the PyTorch 2.0 release notes and/or the `torch.func` migration guide for more details https://pytorch.org/docs/main/func.migrating.html\n",
      "  self.fmodel, self.params = make_functional(self.model)\n"
     ]
    }
   ],
   "source": [
    "slu_evaler = SLUEvaluator(model, Us, srft, device=device)"
   ]
  },
  {
   "cell_type": "code",
   "execution_count": 128,
   "metadata": {},
   "outputs": [
    {
     "name": "stderr",
     "output_type": "stream",
     "text": [
      "/Users/csy/Desktop/sp2/demo/uncertainty/evaluation_slu.py:37: FutureWarning: We've integrated functorch into PyTorch. As the final step of the integration, `functorch.jacrev` is deprecated as of PyTorch 2.0 and will be deleted in a future version of PyTorch >= 2.3. Please use `torch.func.jacrev` instead; see the PyTorch 2.0 release notes and/or the `torch.func` migration guide for more details https://pytorch.org/docs/main/func.migrating.html\n",
      "  J = jacrev(lambda p: self._compute_outputs(p, x))(self.params_flat)\n"
     ]
    },
    {
     "data": {
      "text/plain": [
       "0.686968"
      ]
     },
     "execution_count": 128,
     "metadata": {},
     "output_type": "execute_result"
    }
   ],
   "source": [
    "slu_evaler.compute_auroc(X_id=id_X, X_ood=ood_X)"
   ]
  },
  {
   "cell_type": "code",
   "execution_count": null,
   "metadata": {},
   "outputs": [],
   "source": []
  }
 ],
 "metadata": {
  "kernelspec": {
   "display_name": "oldenv",
   "language": "python",
   "name": "python3"
  },
  "language_info": {
   "codemirror_mode": {
    "name": "ipython",
    "version": 3
   },
   "file_extension": ".py",
   "mimetype": "text/x-python",
   "name": "python",
   "nbconvert_exporter": "python",
   "pygments_lexer": "ipython3",
   "version": "3.10.16"
  }
 },
 "nbformat": 4,
 "nbformat_minor": 2
}
